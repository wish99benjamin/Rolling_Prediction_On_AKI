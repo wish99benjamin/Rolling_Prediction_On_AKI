{
 "cells": [
  {
   "cell_type": "code",
   "execution_count": 1,
   "metadata": {},
   "outputs": [],
   "source": [
    "import numpy as np\n",
    "import pandas as pd\n",
    "import math\n",
    "import os\n",
    "from datetime import datetime       \n",
    "from tqdm import tqdm"
   ]
  },
  {
   "cell_type": "code",
   "execution_count": 2,
   "metadata": {},
   "outputs": [],
   "source": [
    "source_dir = '../raw_data/extracted_labdata/'"
   ]
  },
  {
   "cell_type": "markdown",
   "metadata": {},
   "source": [
    "## Class 0 &rArr; 先不使用"
   ]
  },
  {
   "cell_type": "markdown",
   "metadata": {},
   "source": [
    "## Class 1 &rArr; 只需要刪除"
   ]
  },
  {
   "cell_type": "code",
   "execution_count": 3,
   "metadata": {},
   "outputs": [
    {
     "name": "stdout",
     "output_type": "stream",
     "text": [
      "38\n"
     ]
    }
   ],
   "source": [
    "class_1_list = ['Hb血液', 'NA血液', 'Plt血液', 'WBC血液', 'Baso血液', 'Eos血液', 'Lymph血液', 'Mono血液', 'Seg血液', 'ALT血液',\n",
    "              'AST血液', 'CA血液', 'MPV血液', 'MNAPTT血液', 'APTT血液', 'PT(MNPT)血液', 'PT血液', 'RBC血液', 'MCV血液', 'MCHC血液',\n",
    "              'MCH血液', 'RDW血液', 'PT(INR)血液', 'ALBUMIN血液', 'MG血液', 'Glucose (random)血液', 'P血液', 'TRIG血液', 'CHOL血液',\n",
    "              'GLU.A.C.血液', 'Aty-lym血液', 'Band血液', 'Blast血液', 'Meta血液', 'Pro血液', 'Myelo血液', 'NRBC血液', 'HbA1c血液']\n",
    "print(len(class_1_list))"
   ]
  },
  {
   "cell_type": "code",
   "execution_count": 4,
   "metadata": {},
   "outputs": [],
   "source": [
    "def checker(target_string):\n",
    "    if type(target_string) == float or type(target_string) == int:\n",
    "        return True\n",
    "    if type(target_string) == np.int64 or type(target_string) == np.float64:\n",
    "        # print(type(target_string))\n",
    "        # print(target_string)\n",
    "        return True\n",
    "    elif target_string == \".\":\n",
    "        return False\n",
    "    elif target_string.replace(\".\", \"\").isdigit() == True:\n",
    "        return True\n",
    "    else:\n",
    "        return False"
   ]
  },
  {
   "cell_type": "code",
   "execution_count": 5,
   "metadata": {},
   "outputs": [
    {
     "name": "stderr",
     "output_type": "stream",
     "text": [
      "100%|██████████████████████████████████████████████████████████████████████████████████| 38/38 [03:32<00:00,  5.59s/it]\n"
     ]
    }
   ],
   "source": [
    "for item in tqdm(class_1_list):\n",
    "    df =  pd.read_csv(source_dir + item + \".csv\", encoding = 'utf-8', engine = 'python')\n",
    "    drop_list = []\n",
    "    value_list = []\n",
    "    for index in range(0, df['TestValue'].shape[0]):\n",
    "        if checker(df['TestValue'][index]):\n",
    "            if type(df['TestValue'][index]) == np.int64 or type(df['TestValue'][index]) == np.float64:\n",
    "                value_list.append(float(df['TestValue'][index].item()))\n",
    "            else:\n",
    "                value_list.append(float(df['TestValue'][index]))\n",
    "        else:\n",
    "            drop_list.append(index)\n",
    "    drop_list.reverse()\n",
    "    # print(drop_list)\n",
    "    df.drop(drop_list, axis = 0, inplace = True)\n",
    "    del df['TestValue']\n",
    "    # print(df.shape, len(value_list))\n",
    "    df = df.reset_index(drop = True)\n",
    "    df = pd.concat([df, pd.DataFrame(value_list, columns = ['TestValue'])], axis = 1)\n",
    "    # print(df.shape)\n",
    "    df.to_csv(\"../processing_data/purified_labdata/\" + item + \".csv\", index = False, encoding = 'Big5', header = False)"
   ]
  },
  {
   "cell_type": "markdown",
   "metadata": {},
   "source": [
    "## Class 2 &rArr; 將positive、negative(和他們的變體)改成1、0和刪除怪怪的值"
   ]
  },
  {
   "cell_type": "code",
   "execution_count": 6,
   "metadata": {},
   "outputs": [
    {
     "name": "stdout",
     "output_type": "stream",
     "text": [
      "4\n"
     ]
    }
   ],
   "source": [
    "class_2_list = ['NIT尿液', 'Cast尿液' , 'Crystal尿液', 'Others尿液']\n",
    "print(len(class_2_list))"
   ]
  },
  {
   "cell_type": "code",
   "execution_count": 7,
   "metadata": {},
   "outputs": [],
   "source": [
    "def changer(target_string):\n",
    "    if \"pos\" in target_string or \"Pos\" in target_string or \"POS\" in target_string or target_string == '+':\n",
    "        return 1\n",
    "    elif \"NEG\" in target_string or \"neg\" in target_string or \"Neg\" in target_string or \"Nea\" in target_string or \"Nag\" in target_string or target_string == '-':\n",
    "        return 0\n",
    "    else:\n",
    "        print(target_string)\n",
    "        return -1"
   ]
  },
  {
   "cell_type": "code",
   "execution_count": 8,
   "metadata": {},
   "outputs": [
    {
     "name": "stderr",
     "output_type": "stream",
     "text": [
      "\r",
      "  0%|                                                                                            | 0/4 [00:00<?, ?it/s]"
     ]
    },
    {
     "name": "stdout",
     "output_type": "stream",
     "text": [
      "Trace\n",
      "/\n",
      "/\n",
      "/\n",
      "Trace\n",
      "/\n",
      "//\n",
      "/\n",
      "/\n",
      "[6822, 8077, 21426, 21427, 32484, 42895, 44109, 75014, 116776]\n",
      "(119593, 5) 119593\n"
     ]
    },
    {
     "name": "stderr",
     "output_type": "stream",
     "text": [
      "\r",
      " 25%|█████████████████████                                                               | 1/4 [00:01<00:03,  1.20s/it]"
     ]
    },
    {
     "name": "stdout",
     "output_type": "stream",
     "text": [
      "3\n",
      "10\n",
      "2\n",
      "0\n",
      "/\n",
      "2\n",
      "1\n",
      "5\n",
      "20\n",
      "/\n",
      "/\n",
      "30\n",
      "//\n",
      "2\n",
      "/\n",
      "/\n",
      "[469, 1356, 3605, 6688, 8077, 14632, 18016, 18658, 20689, 21416, 21417, 23865, 44096, 64738, 74959, 116681]\n",
      "(119490, 5) 119490\n"
     ]
    },
    {
     "name": "stderr",
     "output_type": "stream",
     "text": [
      "\r",
      " 50%|██████████████████████████████████████████                                          | 2/4 [00:02<00:02,  1.24s/it]"
     ]
    },
    {
     "name": "stdout",
     "output_type": "stream",
     "text": [
      "Amorphous urate\n",
      "/\n",
      "108\n",
      "10\n",
      "/\n",
      "/\n",
      "1\n",
      "2\n",
      "//\n",
      "Uric Acid\n",
      "/\n",
      "/\n",
      "[2073, 8077, 8363, 9910, 21416, 21417, 23601, 26581, 44094, 69917, 74958, 116679]\n",
      "(119492, 5) 119492\n"
     ]
    },
    {
     "name": "stderr",
     "output_type": "stream",
     "text": [
      "\r",
      " 75%|███████████████████████████████████████████████████████████████                     | 3/4 [00:03<00:01,  1.24s/it]"
     ]
    },
    {
     "name": "stdout",
     "output_type": "stream",
     "text": [
      "/\n",
      "/\n",
      "/\n",
      "budding yeast:1+\n",
      "//\n",
      "/\n",
      "/\n",
      "[8077, 21416, 21417, 41272, 44092, 74959, 116677]\n",
      "(119498, 5) 119498\n"
     ]
    },
    {
     "name": "stderr",
     "output_type": "stream",
     "text": [
      "100%|████████████████████████████████████████████████████████████████████████████████████| 4/4 [00:04<00:00,  1.23s/it]\n"
     ]
    }
   ],
   "source": [
    "for item in tqdm(class_2_list):\n",
    "    df =  pd.read_csv(source_dir + item + \".csv\", encoding = 'utf-8', engine = 'python')\n",
    "    drop_list = []\n",
    "    value_list = []\n",
    "    for index in range(0, df['TestValue'].shape[0]):\n",
    "        value = changer(df['TestValue'][index])\n",
    "        if value == -1:\n",
    "            drop_list.append(index)\n",
    "        else:\n",
    "            value_list.append(value)\n",
    "    print(drop_list)\n",
    "    drop_list.reverse()\n",
    "    df.drop(drop_list, axis = 0, inplace = True)\n",
    "    del df['TestValue']\n",
    "    df = df.reset_index(drop = True)\n",
    "    print(df.shape, len(value_list))\n",
    "    df = pd.concat([df, pd.DataFrame(value_list, columns = ['TestValue'])], axis = 1)\n",
    "    df.to_csv(\"../processing_data/purified_labdata/\" + item + \".csv\", index = False, encoding = 'Big5', header = False)"
   ]
  },
  {
   "cell_type": "markdown",
   "metadata": {},
   "source": [
    "## Class 3 &rArr; 將negative改成0，有數值的改成1 "
   ]
  },
  {
   "cell_type": "code",
   "execution_count": null,
   "metadata": {},
   "outputs": [],
   "source": [
    "class_3_list = ['VitC尿液']\n",
    "print(len(class_3_list))"
   ]
  },
  {
   "cell_type": "markdown",
   "metadata": {},
   "source": [
    "## Class 4 &rArr; 將數值<50的改成Negative，其他數值則改成positive"
   ]
  },
  {
   "cell_type": "code",
   "execution_count": null,
   "metadata": {},
   "outputs": [],
   "source": [
    "class_4_list = ['GLU尿液']\n",
    "print(len(class_4_list))"
   ]
  },
  {
   "cell_type": "markdown",
   "metadata": {},
   "source": [
    "## Class 5 &rArr; 除了刪除不是數值的以外，還要修改其他的值，"
   ]
  },
  {
   "cell_type": "code",
   "execution_count": null,
   "metadata": {},
   "outputs": [],
   "source": [
    "class_5_list = ['BIL-T血液']\n",
    "print(len(class_5_list))"
   ]
  },
  {
   "cell_type": "code",
   "execution_count": null,
   "metadata": {},
   "outputs": [],
   "source": [
    "print(mdb_list)"
   ]
  },
  {
   "cell_type": "code",
   "execution_count": 5,
   "metadata": {},
   "outputs": [
    {
     "name": "stdout",
     "output_type": "stream",
     "text": [
      "yes\n"
     ]
    }
   ],
   "source": [
    "if mdb_list[0] == '%sO2c胸水.csv':\n",
    "    print('yes')\n",
    "    "
   ]
  },
  {
   "cell_type": "code",
   "execution_count": null,
   "metadata": {},
   "outputs": [],
   "source": []
  }
 ],
 "metadata": {
  "kernelspec": {
   "display_name": "python3_7",
   "language": "python",
   "name": "python3_7"
  },
  "language_info": {
   "codemirror_mode": {
    "name": "ipython",
    "version": 3
   },
   "file_extension": ".py",
   "mimetype": "text/x-python",
   "name": "python",
   "nbconvert_exporter": "python",
   "pygments_lexer": "ipython3",
   "version": "3.7.11"
  }
 },
 "nbformat": 4,
 "nbformat_minor": 4
}
