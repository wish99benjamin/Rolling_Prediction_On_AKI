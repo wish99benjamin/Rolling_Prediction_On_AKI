{
 "cells": [
  {
   "cell_type": "code",
   "execution_count": 1,
   "metadata": {},
   "outputs": [],
   "source": [
    "import pandas as pd\n",
    "import numpy as np\n",
    "import ciso8601\n",
    "from datetime import datetime\n",
    "from tqdm import tqdm \n",
    "import pickle\n",
    "import random\n",
    "import os"
   ]
  },
  {
   "cell_type": "code",
   "execution_count": 2,
   "metadata": {},
   "outputs": [],
   "source": [
    "# path = '6_12/'\n",
    "# path = '6_24/'\n",
    "# path = '12_24/'\n",
    "# path = '6/'\n",
    "# path = '12/'\n",
    "# path = '24/'\n",
    "path = '18_39'"
   ]
  },
  {
   "cell_type": "code",
   "execution_count": 3,
   "metadata": {},
   "outputs": [
    {
     "name": "stdout",
     "output_type": "stream",
     "text": [
      "<class 'list'>\n"
     ]
    }
   ],
   "source": [
    "file_path = '../processing_data/pickle/unbalanced/' + path + '/final_train.pickle'\n",
    "\n",
    "with open(file_path,'rb') as f:\n",
    "    train = pickle.load(f)\n",
    "    print(type(train[0]))"
   ]
  },
  {
   "cell_type": "code",
   "execution_count": 4,
   "metadata": {},
   "outputs": [
    {
     "name": "stdout",
     "output_type": "stream",
     "text": [
      "3795\n",
      "1658\n"
     ]
    }
   ],
   "source": [
    "pos = [idx for idx, element in enumerate(train[1]) if element == 1]\n",
    "print(len(pos))\n",
    "neg = [idx for idx, element in enumerate(train[1]) if element == 0]\n",
    "print(len(neg))"
   ]
  },
  {
   "cell_type": "code",
   "execution_count": 5,
   "metadata": {},
   "outputs": [],
   "source": [
    "difference = len(pos) - len(neg)\n",
    "for i in range(0, difference):\n",
    "    index = random.randint(0, len(neg) - 1)\n",
    "    train[0].append(train[0][neg[index]])\n",
    "    train[1].append(train[1][neg[index]])\n",
    "    train[2].append(train[2][neg[index]])\n",
    "    train[3].append(train[3][neg[index]])"
   ]
  },
  {
   "cell_type": "code",
   "execution_count": 6,
   "metadata": {},
   "outputs": [
    {
     "name": "stdout",
     "output_type": "stream",
     "text": [
      "3795\n",
      "3795\n"
     ]
    }
   ],
   "source": [
    "pos_n = [idx for idx, element in enumerate(train[1]) if element == 1]\n",
    "print(len(pos_n))\n",
    "neg_n = [idx for idx, element in enumerate(train[1]) if element == 0]\n",
    "print(len(neg_n))"
   ]
  },
  {
   "cell_type": "code",
   "execution_count": 7,
   "metadata": {},
   "outputs": [],
   "source": [
    "from sklearn.model_selection import train_test_split\n",
    "train1, val1 = train_test_split(train[0], random_state = 777, train_size = 0.8)\n",
    "train2, val2 = train_test_split(train[1], random_state = 777, train_size = 0.8)\n",
    "train3, val3 = train_test_split(train[2], random_state = 777, train_size = 0.8)\n",
    "train4, val4 = train_test_split(train[3], random_state = 777, train_size = 0.8)\n",
    "train1 = train1 + val1\n",
    "train2 = train2 + val2\n",
    "train3 = train3 + val3\n",
    "train4 = train4 + val4"
   ]
  },
  {
   "cell_type": "code",
   "execution_count": 8,
   "metadata": {},
   "outputs": [
    {
     "name": "stdout",
     "output_type": "stream",
     "text": [
      "7590\n",
      "7590\n",
      "7590\n",
      "7590\n"
     ]
    }
   ],
   "source": [
    "print(len(train1))\n",
    "print(len(train2))\n",
    "print(len(train3))\n",
    "print(len(train4))"
   ]
  },
  {
   "cell_type": "code",
   "execution_count": 9,
   "metadata": {},
   "outputs": [
    {
     "name": "stderr",
     "output_type": "stream",
     "text": [
      "<ipython-input-9-4d77840fcefb>:1: VisibleDeprecationWarning: Creating an ndarray from ragged nested sequences (which is a list-or-tuple of lists-or-tuples-or ndarrays with different lengths or shapes) is deprecated. If you meant to do this, you must specify 'dtype=object' when creating the ndarray\n",
      "  final_train = np.array([train1,train2,train3,train4])\n"
     ]
    }
   ],
   "source": [
    "final_train = np.array([train1,train2,train3,train4])\n",
    "final_train = final_train.tolist()"
   ]
  },
  {
   "cell_type": "code",
   "execution_count": 10,
   "metadata": {},
   "outputs": [],
   "source": [
    "if not os.path.exists('../processing_data/pickle/balanced/' + path):\n",
    "    os.mkdir('../processing_data/pickle/balanced/' + path)\n",
    "with open('../processing_data/pickle/balanced/' + path + '/final_train.pickle', 'wb') as b:\n",
    "    pickle.dump(final_train,b)"
   ]
  },
  {
   "cell_type": "code",
   "execution_count": 11,
   "metadata": {},
   "outputs": [
    {
     "name": "stdout",
     "output_type": "stream",
     "text": [
      "[[[1, 2, 9, 10], [1, 2, 5, 9, 10], [1, 2, 9, 10], [1, 2, 5, 9, 10], [1, 2, 9, 10], [1, 2, 5, 9, 10], [1, 2, 7, 9, 10, 12], [1, 2, 5, 9, 10], [1, 2, 9, 10], [1, 2, 5, 9, 10], [1, 2, 9, 10], [1, 2, 5, 9, 10], [1, 2, 9, 10], [1, 2, 5, 9, 10], [1, 2, 9, 10], [1, 2, 5, 9, 10], [1, 2, 9, 10]], [[1, 2, 9, 10], [1, 2, 5, 9, 10], [1, 2, 9, 10], [1, 2, 5, 9, 10], [1, 2, 9, 10, 28, 29], [1, 2, 5, 9, 10], [1, 2, 9, 10], [1, 2, 5, 9, 10], [1, 2, 9, 10], [1, 2, 5, 9, 10], [1, 2, 9, 10], [1, 2, 5, 9, 10], [1, 2, 9, 10], [1, 2, 5, 9, 10], [1, 2, 9, 10], [1, 2, 5, 9, 10], [1, 2, 9, 10]], [[1, 2, 9, 10], [1, 2, 9, 10], [1, 2, 9, 10], [1, 2, 9, 10], [1, 2, 9, 10], [1, 2, 9, 10], [1, 2, 9, 10], [1, 2, 9, 10], [1, 2, 9, 10], [1, 2, 5, 9, 10], [1, 2, 9, 10], [1, 2, 5, 9, 10], [1, 2, 9, 10], [1, 2, 9, 10], [1, 2, 9, 10], [1, 2, 9, 10], [1, 2, 9, 10]], [[1, 2, 9, 10], [1, 2, 5, 9, 10], [1, 2, 9, 10], [1, 2, 5, 9, 10], [1, 2, 9, 10], [1, 2, 5, 9, 10], [1, 2, 9, 10], [1, 2, 5, 9, 10], [0, 1, 2, 3, 6, 7, 9, 10, 11, 12, 13, 14, 15, 16, 17, 18, 19, 23], [1, 2, 5, 9, 10], [1, 2, 9, 10], [1, 2, 5, 9, 10], [1, 2, 9, 10], [1, 2, 5, 9, 10], [1, 2, 9, 10], [1, 2, 5, 9, 10], [1, 2, 9, 10]], [[1, 2, 9, 10], [1, 2, 5, 9, 10], [1, 2, 9, 10], [1, 2, 5, 9, 10], [1, 2, 9, 10], [1, 2, 5, 9, 10], [1, 2, 9, 10], [1, 2, 5, 9, 10], [1, 2, 9, 10], [1, 2, 5, 9, 10], [1, 2, 9, 10], [1, 2, 5, 9, 10], [1, 2, 9, 10], [1, 2, 5, 9, 10], [1, 2, 7, 9, 10, 11, 12, 13, 14, 15, 16, 17, 18, 19, 23], [1, 2, 5, 9, 10], [1, 2, 9, 10]], [[1, 2, 9, 10], [1, 2, 5, 9, 10], [1, 2, 9, 10], [1, 2, 5, 9, 10], [1, 2, 9, 10], [1, 2, 5, 9, 10], [1, 2, 9, 10], [1, 2, 5, 9, 10], [1, 2, 9, 10], [1, 2, 5, 9, 10], [1, 2, 9, 10], [1, 2, 5, 9, 10], [1, 2, 9, 10], [1, 2, 5, 9, 10], [1, 2, 9, 10], [1, 2, 5, 9, 10], [1, 2, 9, 10]], [[1, 2, 9, 10], [1, 2, 5, 9, 10], [1, 2, 9, 10], [1, 2, 5, 9, 10], [1, 2, 9, 10], [1, 2, 5, 9, 10], [1, 2, 9, 10], [1, 2, 5, 9, 10], [1, 2, 9, 10], [1, 2, 5, 9, 10], [1, 2, 9, 10], [1, 2, 5, 9, 10], [1, 2, 9, 10], [1, 2, 5, 9, 10], [1, 2, 9, 10], [1, 2, 5, 9, 10], [1, 2, 9, 10]], [[1, 2, 9, 10], [1, 2, 5, 9, 10], [1, 2, 9, 10], [1, 2, 5, 9, 10], [1, 2, 9, 10], [1, 2, 5, 9, 10], [1, 2, 9, 10], [0, 1, 2, 3, 5, 6, 7, 9, 10, 11, 12, 13, 14, 15, 16, 17, 18, 19, 23], [1, 2, 9, 10], [1, 2, 5, 9, 10], [1, 2, 9, 10], [1, 2, 5, 9, 10], [1, 2, 9, 10], [1, 2, 5, 9, 10], [1, 2, 9, 10], [1, 2, 5, 9, 10], [1, 2, 9, 10]], [[1, 2, 5, 9, 10], [1, 2, 9, 10], [1, 2, 5, 9, 10], [1, 2, 9, 10], [1, 2, 5, 9, 10], [1, 2, 9, 10], [1, 2, 5, 9, 10], [1, 2, 9, 10], [1, 2, 5, 9, 10], [1, 2, 9, 10], [1, 2, 5, 9, 10], [1, 2, 9, 10], [1, 2, 5, 9, 10], [1, 2, 9, 10], [1, 2, 9, 10], [1, 2, 9, 10], [1, 2, 9, 10]], [[5, 9, 10], [9, 10], [9, 10], [9, 10], [5, 9, 10], [5, 9, 10], [5, 9, 10], [9, 10], [5, 9, 10], [9, 10], [5, 9, 10], [9, 10], [5, 9, 10], [9, 10], [9, 10], [9, 10], [9, 10]], [[1, 2, 9, 10], [1, 2, 5, 9, 10], [1, 2, 9, 10], [1, 2, 5, 9, 10], [0, 1, 2, 3, 6, 7, 8, 9, 10, 11, 12, 13, 14, 15, 16, 17, 18, 19, 20, 21, 23, 32, 33, 34, 35, 36], [1, 2, 5, 9, 10], [1, 2, 9, 10], [1, 2, 5, 9, 10], [1, 2, 9, 10], [1, 2, 5, 9, 10], [1, 2, 9, 10], [1, 2, 5, 9, 10], [1, 2, 9, 10], [1, 2, 5, 9, 10], [9, 10], [1, 2, 5, 9, 10], [1, 2, 9, 10]], [[1, 2, 9, 10], [1, 2, 9, 10], [1, 2, 9, 10], [1, 2, 9, 10], [1, 2, 9, 10], [1, 2, 9, 10], [1, 2, 9, 10], [1, 2, 9, 10], [1, 2, 9, 10], [1, 2, 9, 10], [0, 1, 2, 3, 5, 6, 7, 9, 10, 11, 12, 13, 14, 15, 17, 18, 19, 20, 21, 23], [1, 2, 9, 10], [1, 2, 5, 9, 10], [1, 2, 9, 10], [1, 2, 5, 9, 10], [1, 2, 9, 10], [1, 2, 5, 9, 10]], [[1, 2, 5, 9, 10], [1, 2, 9, 10], [1, 2, 9, 10], [1, 2, 5, 9, 10], [1, 2, 9, 10], [1, 2, 5, 9, 10], [1, 2, 9, 10], [1, 2, 5, 9, 10], [1, 2, 9, 10], [1, 2, 5, 9, 10], [1, 2, 5, 9, 10], [1, 2, 9, 10], [1, 2, 9, 10], [1, 2, 5, 9, 10], [1, 2, 5, 9, 10], [1, 2, 9, 10], [1, 2, 9, 10]], [[1, 2, 9, 10], [1, 2, 5, 9, 10], [1, 2, 9, 10], [1, 2, 5, 9, 10], [1, 2, 9, 10], [1, 2, 5, 9, 10], [1, 2, 9, 10], [1, 2, 5, 9, 10], [1, 2, 9, 10], [1, 2, 5, 9, 10], [1, 2, 9, 10], [1, 2, 5, 9, 10], [1, 2, 9, 10], [1, 2, 5, 9, 10], [1, 2, 9, 10], [1, 2, 5, 9, 10], [1, 2, 9, 10]], [[9, 10, 28, 29], [5, 9, 10], [9, 10], [5, 9, 10], [9, 10], [5, 9, 10], [9, 10], [5, 9, 10], [9, 10], [5, 9, 10], [9, 10], [5, 9, 10], [9, 10], [5, 9, 10], [9, 10], [9, 10], [9, 10]], [[1, 2, 5, 9, 10], [1, 2, 9, 10], [1, 2, 9, 10], [1, 2, 9, 10], [1, 2, 5, 9, 10], [1, 2, 9, 10], [1, 2, 9, 10], [1, 2, 9, 10], [1, 2, 9, 10, 20, 21, 30, 31, 37, 38], [1, 2, 5, 9, 10], [1, 2, 9, 10], [1, 2, 5, 9, 10], [1, 2, 9, 10], [0, 1, 2, 3, 5, 6, 9, 10], [1, 2, 5, 9, 10], [1, 2, 5, 9, 10], [1, 2, 9, 10]], [[5, 9, 10], [5, 9, 10], [9, 10], [9, 10], [9, 10], [5, 9, 10], [9, 10], [5, 9, 10], [9, 10], [9, 10], [9, 10], [5, 9, 10], [9, 10], [9, 10], [5, 9, 10], [9, 10], [9, 10]], [[1, 2, 9, 10], [1, 2, 5, 9, 10], [1, 2, 9, 10], [1, 2, 5, 9, 10], [1, 2, 9, 10], [1, 2, 5, 9, 10], [1, 2, 9, 10], [0, 1, 2, 3, 5, 6, 7, 9, 10, 11, 12, 13, 14, 15, 16, 17, 18, 19, 22, 23], [1, 2, 9, 10], [1, 2, 5, 9, 10], [1, 2, 9, 10], [1, 2, 5, 9, 10], [1, 2, 9, 10], [1, 2, 5, 9, 10], [1, 2, 9, 10], [1, 2, 5, 9, 10], [1, 2, 9, 10]], [[1, 2, 9, 10], [1, 2, 5, 9, 10], [1, 2, 9, 10], [1, 2, 5, 9, 10], [1, 2, 9, 10], [1, 2, 5, 9, 10], [1, 2, 9, 10], [1, 2, 5, 9, 10], [1, 2, 9, 10], [1, 2, 5, 9, 10], [1, 2, 9, 10], [1, 2, 5, 9, 10], [1, 2, 9, 10], [1, 2, 5, 9, 10], [1, 2, 9, 10], [1, 2, 5, 9, 10], [1, 2, 9, 10]], [[9, 10], [5, 9, 10], [9, 10], [5, 9, 10], [9, 10], [5, 9, 10], [9, 10], [5, 9, 10], [9, 10], [5, 9, 10], [9, 10], [5, 7, 9, 10, 12], [9, 10], [5, 9, 10], [9, 10], [5, 9, 10], [9, 10]]]\n"
     ]
    }
   ],
   "source": [
    "print(train1[0:20])"
   ]
  },
  {
   "cell_type": "code",
   "execution_count": null,
   "metadata": {},
   "outputs": [],
   "source": []
  },
  {
   "cell_type": "code",
   "execution_count": null,
   "metadata": {},
   "outputs": [],
   "source": []
  },
  {
   "cell_type": "code",
   "execution_count": null,
   "metadata": {},
   "outputs": [],
   "source": []
  }
 ],
 "metadata": {
  "kernelspec": {
   "display_name": "python3_8",
   "language": "python",
   "name": "python3_8"
  },
  "language_info": {
   "codemirror_mode": {
    "name": "ipython",
    "version": 3
   },
   "file_extension": ".py",
   "mimetype": "text/x-python",
   "name": "python",
   "nbconvert_exporter": "python",
   "pygments_lexer": "ipython3",
   "version": "3.8.5"
  }
 },
 "nbformat": 4,
 "nbformat_minor": 4
}
