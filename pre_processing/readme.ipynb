{
 "cells": [
  {
   "cell_type": "markdown",
   "metadata": {},
   "source": [
    "## label1.ipynb"
   ]
  },
  {
   "cell_type": "markdown",
   "metadata": {},
   "source": [
    "以病人urine紀錄來進行AKI的label並產生patient list  "
   ]
  },
  {
   "cell_type": "markdown",
   "metadata": {},
   "source": [
    "## label2.ipynb"
   ]
  },
  {
   "cell_type": "markdown",
   "metadata": {},
   "source": [
    "根據label1產生的patient list將各個特徵原始csv檔中不需要的病人刪除  \n",
    "因為label3只會改變label和AKI發生時間，總人數不會改變，因此不需要在label3後重新進行"
   ]
  },
  {
   "cell_type": "markdown",
   "metadata": {},
   "source": [
    "## label3.ipynb"
   ]
  },
  {
   "cell_type": "markdown",
   "metadata": {},
   "source": [
    "由label1所產出的patient list是只以urine進行AKI的label，因此需要加上使用crea判斷出來的label  \n",
    "需要注意的是，因為不知道為什麼patient list裡面的時間都多了8小時，所以只好讓其他feature的時間也加8小時才能一起比較"
   ]
  },
  {
   "cell_type": "markdown",
   "metadata": {},
   "source": [
    "## csv_to_input.ipynb"
   ]
  },
  {
   "cell_type": "markdown",
   "metadata": {},
   "source": [
    "利用label2產生的各個特徵的精簡csv檔和label3產生的patient list做出pickle檔"
   ]
  },
  {
   "cell_type": "markdown",
   "metadata": {},
   "source": [
    "## csv_to_input_weight.ipynb"
   ]
  },
  {
   "cell_type": "markdown",
   "metadata": {},
   "source": [
    "利用label2產生的各個特徵的精簡csv檔和label3產生的patient list做出pickle檔  \n",
    "和csv_to_input不同之處在於此程式所產生的urine數據為病人原本數據再除以體重  \n",
    "目前所有code已改成配合此程式的架構，因此csv_to_input基本上不太會再使用"
   ]
  },
  {
   "cell_type": "markdown",
   "metadata": {},
   "source": [
    "## balancing.ipynb"
   ]
  },
  {
   "cell_type": "markdown",
   "metadata": {},
   "source": [
    "將原本label0和1數量不平衡的training set調整成數量相同，平衡的training set"
   ]
  },
  {
   "cell_type": "markdown",
   "metadata": {},
   "source": [
    "## mdb_extract.ipynb"
   ]
  },
  {
   "cell_type": "markdown",
   "metadata": {},
   "source": [
    "將mdb檔內的數據依照不同特徵分開"
   ]
  },
  {
   "cell_type": "markdown",
   "metadata": {},
   "source": [
    "## mdb_calculate.ipynb"
   ]
  },
  {
   "cell_type": "markdown",
   "metadata": {},
   "source": [
    "計算有多少病人有某個特徵"
   ]
  },
  {
   "cell_type": "markdown",
   "metadata": {},
   "source": [
    "## mdb_prepurify.ipynb"
   ]
  },
  {
   "cell_type": "markdown",
   "metadata": {},
   "source": [
    "列出mdb檔中需要額外處裡的數值紀錄"
   ]
  },
  {
   "cell_type": "markdown",
   "metadata": {},
   "source": [
    "## mdb_purify.ipynb"
   ]
  },
  {
   "cell_type": "markdown",
   "metadata": {},
   "source": [
    "處裡mdb中奇怪的數值"
   ]
  },
  {
   "cell_type": "markdown",
   "metadata": {},
   "source": [
    "## creating_shared_23.ipynb"
   ]
  },
  {
   "cell_type": "markdown",
   "metadata": {},
   "source": [
    "用同樣的patient list製作出不同時間長度的pickle檔(用23小時的裁切)"
   ]
  },
  {
   "cell_type": "markdown",
   "metadata": {},
   "source": [
    "## trimming_pickle_17.ipynb"
   ]
  },
  {
   "cell_type": "markdown",
   "metadata": {},
   "source": [
    "將原本有17個小時資料的pickle檔按照需要的間隔時長裁切，做出能訓練預測不同時間以後會不會發生AKI的pickle"
   ]
  },
  {
   "cell_type": "markdown",
   "metadata": {},
   "source": [
    "## showing.ipynb"
   ]
  },
  {
   "cell_type": "markdown",
   "metadata": {},
   "source": [
    "挑最多特徵的出來。做成pickle分析feature weight"
   ]
  },
  {
   "cell_type": "markdown",
   "metadata": {},
   "source": [
    "## rolling_preddiction.ipynb"
   ]
  },
  {
   "cell_type": "markdown",
   "metadata": {},
   "source": [
    "做出可以做滾動式預測的pickle"
   ]
  },
  {
   "cell_type": "markdown",
   "metadata": {},
   "source": [
    "## 跑code的順序"
   ]
  },
  {
   "cell_type": "markdown",
   "metadata": {},
   "source": [
    "label1 &rarr; label2 &rarr; label3 &rarr; mdb_extract &rarr; mdb_purify &rarr; csv_to_input_weight \n",
    "到這邊就可以做成最一般的pickle檔(可以預測一小時以後的)\n",
    "接下來可以根據想要進行的預測方式選擇code執行(比方說預測6小時以後、選擇有多少特徵的病人、做滾動式預測)"
   ]
  }
 ],
 "metadata": {
  "kernelspec": {
   "display_name": "python3_7",
   "language": "python",
   "name": "python3_7"
  },
  "language_info": {
   "codemirror_mode": {
    "name": "ipython",
    "version": 3
   },
   "file_extension": ".py",
   "mimetype": "text/x-python",
   "name": "python",
   "nbconvert_exporter": "python",
   "pygments_lexer": "ipython3",
   "version": "3.7.11"
  }
 },
 "nbformat": 4,
 "nbformat_minor": 4
}
