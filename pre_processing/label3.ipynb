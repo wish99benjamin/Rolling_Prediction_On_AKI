{
 "cells": [
  {
   "cell_type": "code",
   "execution_count": 1,
   "metadata": {},
   "outputs": [],
   "source": [
    "import numpy as np\n",
    "import pandas as pd\n",
    "import math\n",
    "import os\n",
    "import ciso8601\n",
    "from datetime import datetime\n",
    "from tqdm import tqdm"
   ]
  },
  {
   "cell_type": "code",
   "execution_count": 2,
   "metadata": {},
   "outputs": [],
   "source": [
    "time_interval  = 29\n",
    "time_interval_str = str(time_interval)\n",
    "time_in_second = (time_interval - 1) * 3600"
   ]
  },
  {
   "cell_type": "code",
   "execution_count": 3,
   "metadata": {},
   "outputs": [],
   "source": [
    "#用crea標的時間也要改\n",
    "patientList = pd.read_csv('../processing_data/label1/' + time_interval_str + '/patient_list.csv')\n"
   ]
  },
  {
   "cell_type": "code",
   "execution_count": 4,
   "metadata": {},
   "outputs": [
    {
     "name": "stdout",
     "output_type": "stream",
     "text": [
      "           Index Method Value          Time\n",
      "0       15831921     血液  1.21  1.388605e+09\n",
      "1       15831921     血液  1.21  1.388605e+09\n",
      "2       15991230     血液  0.77  1.388646e+09\n",
      "3       15991230     血液  0.77  1.388646e+09\n",
      "4       10342202     血液  0.89  1.388652e+09\n",
      "...          ...    ...   ...           ...\n",
      "141944    272742     血液  0.97  1.614384e+09\n",
      "141945    272742     血液  0.97  1.614384e+09\n",
      "141946  11126820     血液  5.50  1.614384e+09\n",
      "141947   2168102     血液  1.44  1.614398e+09\n",
      "141948    831618     血液  3.13  1.614430e+09\n",
      "\n",
      "[141949 rows x 4 columns]\n"
     ]
    }
   ],
   "source": [
    "crea = pd.read_csv('../processing_data/label2/' + time_interval_str + '/crea_csv.csv')\n",
    "crea = crea.drop(columns=(crea.columns[0]), axis = 1)\n",
    "crea = crea.rename(columns = {'0': 'Index','1': 'Method','2': 'Timestamp', '3' : 'Value'})\n",
    "crea_time = []\n",
    "for c in crea['Timestamp']:\n",
    "    crea_time.append(ciso8601.parse_datetime(c).timestamp())\n",
    "crea = crea.drop(columns = 'Timestamp')\n",
    "crea['Time'] = crea_time\n",
    "crea = crea.sort_values(by='Time')\n",
    "crea = crea.reset_index(drop=True)\n",
    "print(crea)"
   ]
  },
  {
   "cell_type": "markdown",
   "metadata": {},
   "source": [
    "AKI is defined as any of the following (Not Graded):\n",
    "1. K Increase in SCr by >=0.3 mg/dl (>=26.5 lmol/l) within 48 hours; or\n",
    "2. K Increase in SCr to >=1.5 times baseline, which is known or presumed to have occurred within the prior 7 days; or\n",
    "3. K Urine volume <0.5 ml/kg/h for 6 hours"
   ]
  },
  {
   "cell_type": "code",
   "execution_count": 5,
   "metadata": {},
   "outputs": [],
   "source": [
    "def kdigo_crea(time_pre, value_pre, time_now, value_now):\n",
    "    if '>' in value_now or '>' in value_pre or '/' in value_now or '/' in value_pre:\n",
    "        return False\n",
    "    if '<' in value_pre:\n",
    "        value_pre = 0.19\n",
    "    if '<' in value_now:\n",
    "        value_now = 0.19\n",
    "    if (int(time_now) - int(time_pre) <= (3600 * 48)) and ((int(time_now) > int(time_pre)))  and (float(value_now) - float(value_pre) >= 0.3):\n",
    "        return True\n",
    "    elif (int(time_now) - int(time_pre) <= (3600 * 24 * 7)) and (int(time_now) > int(time_pre))  and (float(value_now)/float(value_pre) >= 1.5):         \n",
    "        return True                                                         "
   ]
  },
  {
   "cell_type": "code",
   "execution_count": 6,
   "metadata": {},
   "outputs": [
    {
     "name": "stderr",
     "output_type": "stream",
     "text": [
      "100%|█████████████████████████████████████████████████████████████████████████████| 6578/6578 [00:35<00:00, 185.80it/s]"
     ]
    },
    {
     "name": "stdout",
     "output_type": "stream",
     "text": [
      "改成用crea標記: 327\n",
      "用crea判斷會發生aki: 107\n",
      "太早發病: 204\n"
     ]
    },
    {
     "name": "stderr",
     "output_type": "stream",
     "text": [
      "\n"
     ]
    }
   ],
   "source": [
    "########resolve copy problem\n",
    "pd.options.mode.chained_assignment = None \n",
    "base_change = 0\n",
    "label_change = 0\n",
    "drop_list = []\n",
    "for i in tqdm(range(len(patientList))):\n",
    "    end_time = 0\n",
    "    temp = crea['Index'].isin([patientList['patient_code'][i]])\n",
    "    cur = temp[temp == True].index.tolist()\n",
    "    \n",
    "    if len(cur) >= 2:\n",
    "        for j in range(len(cur)-1):\n",
    "            if crea['Method'][cur[j]] == '尿液':\n",
    "                continue\n",
    "            elif crea['Time'][cur[j]] + 28800 < patientList['icu_time'][i] or  crea['Time'][cur[j]] + 28800 > patientList['leave_time'][i]:\n",
    "                continue\n",
    "            for k in range(j + 1, len(cur)):\n",
    "                if crea['Method'][cur[k]] == '尿液':\n",
    "                    continue\n",
    "                elif crea['Time'][cur[k]] + 28800 < patientList['icu_time'][i] or  crea['Time'][cur[k]] + 28800 > patientList['leave_time'][i]:\n",
    "                    continue\n",
    "                if kdigo_crea(crea['Time'][cur[j]], crea['Value'][cur[j]], crea['Time'][cur[k]], crea['Value'][cur[k]]) == True:\n",
    "                    end_time = int(crea['Time'][cur[k]])\n",
    "                    break\n",
    "            if end_time != 0:\n",
    "                break\n",
    "                \n",
    "        if end_time != 0:\n",
    "            if patientList['end_time'][i] > (end_time + 28800 - 3600) :\n",
    "                if patientList['icu_time'][i] > end_time + 28800 - 3600 - time_in_second: #太早發病\n",
    "                    # print(patientList['patient_code'][i])\n",
    "                    drop_list.append(i)\n",
    "                else:\n",
    "                    patientList['end_time'][i]  = end_time + 28800 - 3600\n",
    "                    patientList['start_time'][i] = end_time + 28800 - 3600 - time_in_second\n",
    "                    if patientList['label'][i] == 0:\n",
    "                        patientList['label'][i] = 1\n",
    "                        label_change += 1\n",
    "                    patientList['base'][i] = 'c'\n",
    "                    base_change += 1\n",
    "                \n",
    "print('改成用crea標記: ' + str(base_change))\n",
    "print('用crea判斷會發生aki: ' + str(label_change))\n",
    "print('太早發病: ' + str(len(drop_list)))\n",
    "                \n"
   ]
  },
  {
   "cell_type": "code",
   "execution_count": 7,
   "metadata": {},
   "outputs": [
    {
     "name": "stdout",
     "output_type": "stream",
     "text": [
      "(6374, 9)\n"
     ]
    }
   ],
   "source": [
    "patientList.drop(drop_list, axis = 0, inplace = True)\n",
    "patientList = patientList.reset_index(drop = True)\n",
    "print(patientList.shape)"
   ]
  },
  {
   "cell_type": "code",
   "execution_count": 8,
   "metadata": {},
   "outputs": [],
   "source": [
    "if not os.path.exists('../processing_data/label3/' + time_interval_str):\n",
    "    os.mkdir('../processing_data/label3/' + time_interval_str)\n",
    "patientList.to_csv('../processing_data/label3/' + time_interval_str + '/new_patient_list.csv', index = False, encoding = 'utf-8')"
   ]
  },
  {
   "cell_type": "code",
   "execution_count": null,
   "metadata": {},
   "outputs": [],
   "source": []
  }
 ],
 "metadata": {
  "kernelspec": {
   "display_name": "Python 3",
   "language": "python",
   "name": "python3"
  },
  "language_info": {
   "codemirror_mode": {
    "name": "ipython",
    "version": 3
   },
   "file_extension": ".py",
   "mimetype": "text/x-python",
   "name": "python",
   "nbconvert_exporter": "python",
   "pygments_lexer": "ipython3",
   "version": "3.8.5"
  }
 },
 "nbformat": 4,
 "nbformat_minor": 4
}
