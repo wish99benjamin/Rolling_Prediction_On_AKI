{
 "cells": [
  {
   "cell_type": "code",
   "execution_count": 1,
   "metadata": {},
   "outputs": [],
   "source": [
    "import pandas as pd\n",
    "import numpy as np\n",
    "# import ciso8601\n",
    "from datetime import datetime\n",
    "from tqdm import tqdm \n",
    "import pickle\n",
    "import random"
   ]
  },
  {
   "cell_type": "code",
   "execution_count": 2,
   "metadata": {},
   "outputs": [],
   "source": [
    "time_interval = '24'\n",
    "train_file = '../processing_data/pickle/balanced/' + time_interval + '/final_train.pickle'\n",
    "val_file = '../processing_data/pickle/unbalanced/' + time_interval + '/final_val.pickle'\n",
    "test_file = '../processing_data/pickle/unbalanced/' + time_interval + '/final_test.pickle'\n",
    "with open(train_file,'rb') as f:\n",
    "    train = pickle.load(f)\n",
    "    \n",
    "with open(val_file,'rb') as f:\n",
    "    val = pickle.load(f)\n",
    "    \n",
    "with open(test_file,'rb') as f:\n",
    "    test = pickle.load(f)\n"
   ]
  },
  {
   "cell_type": "markdown",
   "metadata": {},
   "source": [
    "### train : val : test = 3 : 1 : 1"
   ]
  },
  {
   "cell_type": "code",
   "execution_count": 3,
   "metadata": {},
   "outputs": [],
   "source": [
    "target_interval = '24'\n",
    "start_point = 23 + 1 - int(target_interval)"
   ]
  },
  {
   "cell_type": "code",
   "execution_count": 4,
   "metadata": {},
   "outputs": [],
   "source": [
    "for x in range(len(train[0])):\n",
    "    train[0][x] = train[0][x][start_point : 23]\n",
    "    train[2][x] = train[2][x][start_point : 23]\n",
    "    train[3][x] = train[3][x][start_point : 23]\n",
    "    \n",
    "for x in range(len(val[0])):\n",
    "    val[0][x] = val[0][x][start_point : 23]\n",
    "    val[2][x] = val[2][x][start_point : 23]\n",
    "    val[3][x] = val[3][x][start_point : 23]\n",
    "    \n",
    "for x in range(len(test[0])):\n",
    "    test[0][x] = test[0][x][start_point : 23]\n",
    "    test[2][x] = test[2][x][start_point : 23]\n",
    "    test[3][x] = test[3][x][start_point : 23]"
   ]
  },
  {
   "cell_type": "code",
   "execution_count": 6,
   "metadata": {},
   "outputs": [],
   "source": [
    "with open('../processing_data/pickle/common/' + target_interval + '/final_train.pickle', 'wb') as b:\n",
    "    pickle.dump(train,b)\n",
    "with open('../processing_data/pickle/common/' + target_interval + '/final_val.pickle', 'wb') as b:\n",
    "    pickle.dump(val,b)\n",
    "with open('../processing_data/pickle/common/' + target_interval + '/final_test.pickle', 'wb') as b:\n",
    "    pickle.dump(test,b)"
   ]
  },
  {
   "cell_type": "code",
   "execution_count": null,
   "metadata": {},
   "outputs": [],
   "source": []
  },
  {
   "cell_type": "code",
   "execution_count": null,
   "metadata": {},
   "outputs": [],
   "source": []
  }
 ],
 "metadata": {
  "kernelspec": {
   "display_name": "Python 3",
   "language": "python",
   "name": "python3"
  },
  "language_info": {
   "codemirror_mode": {
    "name": "ipython",
    "version": 3
   },
   "file_extension": ".py",
   "mimetype": "text/x-python",
   "name": "python",
   "nbconvert_exporter": "python",
   "pygments_lexer": "ipython3",
   "version": "3.8.5"
  }
 },
 "nbformat": 4,
 "nbformat_minor": 4
}
