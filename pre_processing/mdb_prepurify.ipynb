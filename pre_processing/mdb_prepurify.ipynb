{
 "cells": [
  {
   "cell_type": "code",
   "execution_count": 95,
   "metadata": {},
   "outputs": [],
   "source": [
    "import numpy as np\n",
    "import pandas as pd\n",
    "import math\n",
    "import os\n",
    "from datetime import datetime\n",
    "from tqdm import tqdm"
   ]
  },
  {
   "cell_type": "code",
   "execution_count": 96,
   "metadata": {},
   "outputs": [],
   "source": [
    "csv_path = '../raw_data/extracted_labdata'\n",
    "csv_list = os.listdir(csv_path)"
   ]
  },
  {
   "cell_type": "code",
   "execution_count": 97,
   "metadata": {},
   "outputs": [],
   "source": [
    "output_path = './output/output.txt'\n",
    "f = open(output_path, \"w\", encoding = \"utf_8_sig\")"
   ]
  },
  {
   "cell_type": "code",
   "execution_count": 98,
   "metadata": {},
   "outputs": [],
   "source": [
    "def checker(target_string):\n",
    "    if type(target_string) == float or type(target_string) == int:\n",
    "        return True\n",
    "    elif target_string == \".\":\n",
    "        return False\n",
    "    elif target_string.replace(\".\", \"\").isdigit() == True:\n",
    "        return True\n",
    "    else:\n",
    "        return False\n",
    "    "
   ]
  },
  {
   "cell_type": "code",
   "execution_count": 99,
   "metadata": {},
   "outputs": [
    {
     "name": "stderr",
     "output_type": "stream",
     "text": [
      "100%|████████████████████████████████████████████████████████████████████████████████| 492/492 [01:15<00:00,  6.48it/s]\n"
     ]
    }
   ],
   "source": [
    "for file in tqdm(csv_list):\n",
    "    f.write(file[:-4])\n",
    "    f.write('\\n')\n",
    "    \n",
    "    mdb_df = pd.read_csv(csv_path + '/' + file, encoding = 'utf_8_sig', engine = 'python')\n",
    "    mdb_ary = mdb_df.to_numpy()\n",
    "    delete_list = []\n",
    "    string_list = []\n",
    "    \n",
    "    for index in range(0, int(mdb_ary.size/6)):\n",
    "        if checker(mdb_ary[index][5]):\n",
    "            pass\n",
    "        else:\n",
    "            delete_list.append(index)\n",
    "            string_list.append(mdb_ary[index][5] + \" \")\n",
    "            \n",
    "    mdb_ary = np.delete(mdb_ary, delete_list, axis = 0)\n",
    "    string_set = set(string_list)\n",
    "    for string in string_set:\n",
    "        f.write(string + \" \")\n",
    "    f.write('\\n')\n",
    "    \n",
    "f.close() \n",
    "  "
   ]
  },
  {
   "cell_type": "code",
   "execution_count": null,
   "metadata": {},
   "outputs": [],
   "source": []
  },
  {
   "cell_type": "code",
   "execution_count": null,
   "metadata": {},
   "outputs": [],
   "source": []
  }
 ],
 "metadata": {
  "kernelspec": {
   "display_name": "python3_7",
   "language": "python",
   "name": "python3_7"
  },
  "language_info": {
   "codemirror_mode": {
    "name": "ipython",
    "version": 3
   },
   "file_extension": ".py",
   "mimetype": "text/x-python",
   "name": "python",
   "nbconvert_exporter": "python",
   "pygments_lexer": "ipython3",
   "version": "3.7.11"
  }
 },
 "nbformat": 4,
 "nbformat_minor": 4
}
