{
 "cells": [
  {
   "cell_type": "code",
   "execution_count": null,
   "metadata": {},
   "outputs": [],
   "source": [
    "import numpy as np\n",
    "import pandas as pd\n",
    "import math\n",
    "import os\n",
    "from datetime import datetime\n",
    "from tqdm import tqdm"
   ]
  },
  {
   "cell_type": "code",
   "execution_count": null,
   "metadata": {},
   "outputs": [],
   "source": [
    "df = pd.read_csv('../processing_data/label3/24/new_patient_list.csv', encoding = 'utf-8', engine = 'python')\n",
    "patient_list_24 = df['patient_code'].tolist()\n",
    "patient_list_24 = np.array(patient_list_24)\n",
    "df = pd.read_csv('../processing_data/label3/12/new_patient_list.csv', encoding = 'utf-8', engine = 'python')\n",
    "patient_list_12 = df['patient_code'].tolist()\n",
    "patient_list_12 = np.array(patient_list_12)\n",
    "df = pd.read_csv('../processing_data/label3/6/new_patient_list.csv', encoding = 'utf-8', engine = 'python')\n",
    "patient_list_6 = df['patient_code'].tolist()\n",
    "patient_list_6 = np.array(patient_list_6)"
   ]
  },
  {
   "cell_type": "code",
   "execution_count": null,
   "metadata": {},
   "outputs": [],
   "source": [
    "csv_path = '../raw_data/extracted_labdata'\n",
    "csv_list = os.listdir(csv_path)\n",
    "itemname = []\n",
    "num_ori = []\n",
    "num_24 = []\n",
    "num_12 = []\n",
    "num_6 = []"
   ]
  },
  {
   "cell_type": "code",
   "execution_count": null,
   "metadata": {},
   "outputs": [],
   "source": [
    "for file in tqdm(csv_list):\n",
    "    itemname.append(file[:-4])\n",
    "    mdb_df = pd.read_csv(csv_path + '/' + file, encoding = 'utf_8_sig', engine = 'python')\n",
    "    mdb_patient_list = np.array(list(set(mdb_df['patient_code'].tolist())))\n",
    "    num_ori.append(len(mdb_patient_list))\n",
    "    temp = mdb_patient_list[np.isin(mdb_patient_list, patient_list_24)]\n",
    "    num_24.append(len(temp))\n",
    "    temp = mdb_patient_list[np.isin(mdb_patient_list, patient_list_12)]\n",
    "    num_12.append(len(temp))\n",
    "    temp = mdb_patient_list[np.isin(mdb_patient_list, patient_list_6)]\n",
    "    num_6.append(len(temp))"
   ]
  },
  {
   "cell_type": "code",
   "execution_count": null,
   "metadata": {},
   "outputs": [],
   "source": [
    "output_df = pd.DataFrame(itemname, columns = [\"itemname\"])\n",
    "output_df = pd.concat([output_df, pd.DataFrame(num_ori, columns = [\"num_ori\"])], axis = 1)\n",
    "output_df = pd.concat([output_df, pd.DataFrame(num_24, columns = [\"num_24\"])], axis = 1)\n",
    "output_df = pd.concat([output_df, pd.DataFrame(num_12, columns = [\"num_12\"])], axis = 1)\n",
    "output_df = pd.concat([output_df, pd.DataFrame(num_6, columns = [\"num_6\"])], axis = 1)\n",
    "print(output_df)"
   ]
  },
  {
   "cell_type": "code",
   "execution_count": null,
   "metadata": {},
   "outputs": [],
   "source": [
    "output_df.to_csv('../processing_data/mdb/calculation.csv', index = False, encoding = 'utf_8_sig')"
   ]
  }
 ],
 "metadata": {
  "kernelspec": {
   "display_name": "python3_7",
   "language": "python",
   "name": "python3_7"
  },
  "language_info": {
   "codemirror_mode": {
    "name": "ipython",
    "version": 3
   },
   "file_extension": ".py",
   "mimetype": "text/x-python",
   "name": "python",
   "nbconvert_exporter": "python",
   "pygments_lexer": "ipython3",
   "version": "3.7.11"
  }
 },
 "nbformat": 4,
 "nbformat_minor": 4
}
