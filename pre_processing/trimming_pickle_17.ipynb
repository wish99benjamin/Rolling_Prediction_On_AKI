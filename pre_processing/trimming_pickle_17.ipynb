{
 "cells": [
  {
   "cell_type": "code",
   "execution_count": 1,
   "metadata": {},
   "outputs": [],
   "source": [
    "import pandas as pd\n",
    "import numpy as np\n",
    "# import ciso8601\n",
    "from datetime import datetime\n",
    "from tqdm import tqdm \n",
    "import pickle\n",
    "import random\n",
    "import os"
   ]
  },
  {
   "cell_type": "code",
   "execution_count": 2,
   "metadata": {},
   "outputs": [],
   "source": [
    "time_interval = '18_19'\n",
    "train_file = '../processing_data/pickle/balanced/' + time_interval + '/final_train.pickle'\n",
    "val_file = '../processing_data/pickle/unbalanced/' + time_interval + '/final_val.pickle'\n",
    "test_file = '../processing_data/pickle/unbalanced/' + time_interval + '/final_test.pickle'\n",
    "with open(train_file,'rb') as f:\n",
    "    train = pickle.load(f)\n",
    "    \n",
    "with open(val_file,'rb') as f:\n",
    "    val = pickle.load(f)\n",
    "    \n",
    "with open(test_file,'rb') as f:\n",
    "    test = pickle.load(f)\n"
   ]
  },
  {
   "cell_type": "markdown",
   "metadata": {},
   "source": [
    "### train : val : test = 3 : 1 : 1"
   ]
  },
  {
   "cell_type": "code",
   "execution_count": 3,
   "metadata": {},
   "outputs": [],
   "source": [
    "gap = 6\n",
    "start_point = 6 - gap\n",
    "end_point = start_point + 11"
   ]
  },
  {
   "cell_type": "code",
   "execution_count": 4,
   "metadata": {},
   "outputs": [],
   "source": [
    "for x in range(len(train[0])):\n",
    "    train[0][x] = train[0][x][start_point : end_point]\n",
    "    train[2][x] = train[2][x][start_point : end_point]\n",
    "    train[3][x] = train[3][x][start_point : end_point]\n",
    "    \n",
    "for x in range(len(val[0])):\n",
    "    val[0][x] = val[0][x][start_point : end_point]\n",
    "    val[2][x] = val[2][x][start_point : end_point]\n",
    "    val[3][x] = val[3][x][start_point : end_point]\n",
    "    \n",
    "for x in range(len(test[0])):\n",
    "    test[0][x] = test[0][x][start_point : end_point]\n",
    "    test[2][x] = test[2][x][start_point : end_point]\n",
    "    test[3][x] = test[3][x][start_point : end_point]"
   ]
  },
  {
   "cell_type": "code",
   "execution_count": 5,
   "metadata": {},
   "outputs": [
    {
     "name": "stdout",
     "output_type": "stream",
     "text": [
      "[[1, 2, 9, 10], [1, 2, 5, 9, 10], [1, 2, 9, 10], [1, 2, 5, 9, 10], [1, 2, 9, 10], [1, 2, 5, 9, 10], [1, 2, 7, 9, 10, 12], [1, 2, 5, 9, 10], [1, 2, 9, 10], [1, 2, 5, 9, 10], [1, 2, 9, 10]]\n",
      "[1020, 960, 900, 840, 780, 720, 660, 600, 540, 480, 420]\n",
      "[[0.2299168975069252, 0.44816053511705684, 0.5166461159062885, 1], [0.20498614958448755, 0.3745819397993311, 0.005235920852359208, 0.5166461159062885, 1], [0.20221606648199447, 0.3612040133779264, 0.5166461159062885, 1], [0.1994459833795014, 0.42474916387959866, 0.004992389649923897, 0.5166461159062885, 1], [0.1772853185595568, 0.36789297658862874, 0.5166461159062885, 1], [0.1994459833795014, 0.4080267558528428, 0.004079147640791476, 0.5166461159062885, 1], [0.18282548476454294, 0.38461538461538464, 0.33749999999999997, 0.5166461159062885, 1, 0.375886524822695], [0.1994459833795014, 0.40468227424749165, 0.0031659056316590563, 0.5166461159062885, 1], [0.16897506925207756, 0.3879598662207358, 0.5166461159062885, 1], [0.20221606648199447, 0.4180602006688963, 0.0030441400304414, 0.5166461159062885, 1], [0.20498614958448755, 0.41471571906354515, 0.5166461159062885, 1]]\n"
     ]
    }
   ],
   "source": [
    "print(train[0][0])\n",
    "print(train[2][0])\n",
    "print(train[3][0])"
   ]
  },
  {
   "cell_type": "code",
   "execution_count": 6,
   "metadata": {},
   "outputs": [],
   "source": [
    "if not os.path.exists('../processing_data/pickle/trimming/12_with_gap_' + str(gap) + '/' + time_interval ):\n",
    "        os.mkdir('../processing_data/pickle/trimming/12_with_gap_' + str(gap) + '/' + time_interval )\n",
    "with open('../processing_data/pickle/trimming/12_with_gap_' + str(gap) + '/' + time_interval  + '/final_train.pickle', 'wb') as b:\n",
    "    pickle.dump(train,b)\n",
    "with open('../processing_data/pickle/trimming/12_with_gap_' + str(gap) + '/' + time_interval  + '/final_val.pickle', 'wb') as b:\n",
    "    pickle.dump(val,b)\n",
    "with open('../processing_data/pickle/trimming/12_with_gap_' + str(gap) + '/' + time_interval  + '/final_test.pickle', 'wb') as b:\n",
    "    pickle.dump(test,b)"
   ]
  }
 ],
 "metadata": {
  "kernelspec": {
   "display_name": "python3_7",
   "language": "python",
   "name": "python3_7"
  },
  "language_info": {
   "codemirror_mode": {
    "name": "ipython",
    "version": 3
   },
   "file_extension": ".py",
   "mimetype": "text/x-python",
   "name": "python",
   "nbconvert_exporter": "python",
   "pygments_lexer": "ipython3",
   "version": "3.7.11"
  }
 },
 "nbformat": 4,
 "nbformat_minor": 4
}
